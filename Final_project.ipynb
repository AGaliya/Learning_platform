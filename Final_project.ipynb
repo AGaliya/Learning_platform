{
 "cells": [
  {
   "cell_type": "code",
   "execution_count": 1,
   "id": "eeaef666",
   "metadata": {},
   "outputs": [],
   "source": [
    "import pandas as pd\n",
    "from scipy.stats import shapiro, mannwhitneyu\n",
    "from scipy.stats import chi2_contingency"
   ]
  },
  {
   "cell_type": "markdown",
   "id": "a5ffc3bf",
   "metadata": {},
   "source": [
    "## A/B Тестирование"
   ]
  },
  {
   "cell_type": "markdown",
   "id": "d7e392a3",
   "metadata": {},
   "source": [
    "Одной из основных задач аналитика в нашей команде является корректное проведение экспериментов. Для этого мы применяем метод A/B–тестирования. В ходе тестирования одной гипотезы целевой группе была предложена новая механика оплаты услуг на сайте, у контрольной группы оставалась базовая механика. Необходимо проанализировать итоги эксперимента и сделать вывод, стоит ли запускать новую механику оплаты на всех пользователей."
   ]
  },
  {
   "cell_type": "markdown",
   "id": "82714029",
   "metadata": {},
   "source": [
    "Откроем файл с группами пользователей"
   ]
  },
  {
   "cell_type": "code",
   "execution_count": 2,
   "id": "7fbad7f0",
   "metadata": {},
   "outputs": [],
   "source": [
    "groups = pd.read_csv('Проект_2_groups.csv', sep=';')"
   ]
  },
  {
   "cell_type": "code",
   "execution_count": 3,
   "id": "7b99c5ba",
   "metadata": {},
   "outputs": [
    {
     "data": {
      "text/html": [
       "<div>\n",
       "<style scoped>\n",
       "    .dataframe tbody tr th:only-of-type {\n",
       "        vertical-align: middle;\n",
       "    }\n",
       "\n",
       "    .dataframe tbody tr th {\n",
       "        vertical-align: top;\n",
       "    }\n",
       "\n",
       "    .dataframe thead th {\n",
       "        text-align: right;\n",
       "    }\n",
       "</style>\n",
       "<table border=\"1\" class=\"dataframe\">\n",
       "  <thead>\n",
       "    <tr style=\"text-align: right;\">\n",
       "      <th></th>\n",
       "      <th>id</th>\n",
       "      <th>grp</th>\n",
       "    </tr>\n",
       "  </thead>\n",
       "  <tbody>\n",
       "    <tr>\n",
       "      <th>0</th>\n",
       "      <td>1489</td>\n",
       "      <td>B</td>\n",
       "    </tr>\n",
       "    <tr>\n",
       "      <th>1</th>\n",
       "      <td>1627</td>\n",
       "      <td>A</td>\n",
       "    </tr>\n",
       "    <tr>\n",
       "      <th>2</th>\n",
       "      <td>1768</td>\n",
       "      <td>B</td>\n",
       "    </tr>\n",
       "    <tr>\n",
       "      <th>3</th>\n",
       "      <td>1783</td>\n",
       "      <td>B</td>\n",
       "    </tr>\n",
       "    <tr>\n",
       "      <th>4</th>\n",
       "      <td>1794</td>\n",
       "      <td>A</td>\n",
       "    </tr>\n",
       "  </tbody>\n",
       "</table>\n",
       "</div>"
      ],
      "text/plain": [
       "     id grp\n",
       "0  1489   B\n",
       "1  1627   A\n",
       "2  1768   B\n",
       "3  1783   B\n",
       "4  1794   A"
      ]
     },
     "execution_count": 3,
     "metadata": {},
     "output_type": "execute_result"
    }
   ],
   "source": [
    "groups.head()"
   ]
  },
  {
   "cell_type": "code",
   "execution_count": 4,
   "id": "a25c742c",
   "metadata": {},
   "outputs": [
    {
     "data": {
      "text/plain": [
       "(74484, 2)"
      ]
     },
     "execution_count": 4,
     "metadata": {},
     "output_type": "execute_result"
    }
   ],
   "source": [
    "groups.shape"
   ]
  },
  {
   "cell_type": "markdown",
   "id": "0a326d73",
   "metadata": {},
   "source": [
    "Проверим, нет ли пропущенных значений в данных."
   ]
  },
  {
   "cell_type": "code",
   "execution_count": 5,
   "id": "218dc37b",
   "metadata": {},
   "outputs": [
    {
     "data": {
      "text/plain": [
       "id     0\n",
       "grp    0\n",
       "dtype: int64"
      ]
     },
     "execution_count": 5,
     "metadata": {},
     "output_type": "execute_result"
    }
   ],
   "source": [
    "groups.isnull().sum()"
   ]
  },
  {
   "cell_type": "markdown",
   "id": "a224e7e9",
   "metadata": {},
   "source": [
    "Проверим, нет ли дубликатов среди id."
   ]
  },
  {
   "cell_type": "code",
   "execution_count": 6,
   "id": "62ab9e3d",
   "metadata": {},
   "outputs": [
    {
     "data": {
      "text/plain": [
       "0"
      ]
     },
     "execution_count": 6,
     "metadata": {},
     "output_type": "execute_result"
    }
   ],
   "source": [
    "groups.id.duplicated().sum()"
   ]
  },
  {
   "cell_type": "markdown",
   "id": "0661a571",
   "metadata": {},
   "source": [
    "Посчитаем, сколько пользователей в каждой из групп"
   ]
  },
  {
   "cell_type": "code",
   "execution_count": 7,
   "id": "8a3cff0c",
   "metadata": {},
   "outputs": [
    {
     "data": {
      "text/plain": [
       "B    59813\n",
       "A    14671\n",
       "Name: grp, dtype: int64"
      ]
     },
     "execution_count": 7,
     "metadata": {},
     "output_type": "execute_result"
    }
   ],
   "source": [
    "groups.grp.value_counts()"
   ]
  },
  {
   "cell_type": "markdown",
   "id": "72385e47",
   "metadata": {},
   "source": [
    "Откроем файл с информацией о пользователях, заходивших на платформу в дни эксперимента"
   ]
  },
  {
   "cell_type": "code",
   "execution_count": 8,
   "id": "6b731177",
   "metadata": {},
   "outputs": [],
   "source": [
    "active_studs = pd.read_csv('Проект_2_active_studs.csv')"
   ]
  },
  {
   "cell_type": "code",
   "execution_count": 9,
   "id": "ba17d8d0",
   "metadata": {},
   "outputs": [
    {
     "data": {
      "text/html": [
       "<div>\n",
       "<style scoped>\n",
       "    .dataframe tbody tr th:only-of-type {\n",
       "        vertical-align: middle;\n",
       "    }\n",
       "\n",
       "    .dataframe tbody tr th {\n",
       "        vertical-align: top;\n",
       "    }\n",
       "\n",
       "    .dataframe thead th {\n",
       "        text-align: right;\n",
       "    }\n",
       "</style>\n",
       "<table border=\"1\" class=\"dataframe\">\n",
       "  <thead>\n",
       "    <tr style=\"text-align: right;\">\n",
       "      <th></th>\n",
       "      <th>student_id</th>\n",
       "    </tr>\n",
       "  </thead>\n",
       "  <tbody>\n",
       "    <tr>\n",
       "      <th>0</th>\n",
       "      <td>581585</td>\n",
       "    </tr>\n",
       "    <tr>\n",
       "      <th>1</th>\n",
       "      <td>5723133</td>\n",
       "    </tr>\n",
       "    <tr>\n",
       "      <th>2</th>\n",
       "      <td>3276743</td>\n",
       "    </tr>\n",
       "    <tr>\n",
       "      <th>3</th>\n",
       "      <td>4238589</td>\n",
       "    </tr>\n",
       "    <tr>\n",
       "      <th>4</th>\n",
       "      <td>4475369</td>\n",
       "    </tr>\n",
       "    <tr>\n",
       "      <th>...</th>\n",
       "      <td>...</td>\n",
       "    </tr>\n",
       "    <tr>\n",
       "      <th>8336</th>\n",
       "      <td>1794344</td>\n",
       "    </tr>\n",
       "    <tr>\n",
       "      <th>8337</th>\n",
       "      <td>296883</td>\n",
       "    </tr>\n",
       "    <tr>\n",
       "      <th>8338</th>\n",
       "      <td>3598448</td>\n",
       "    </tr>\n",
       "    <tr>\n",
       "      <th>8339</th>\n",
       "      <td>3610547</td>\n",
       "    </tr>\n",
       "    <tr>\n",
       "      <th>8340</th>\n",
       "      <td>205705</td>\n",
       "    </tr>\n",
       "  </tbody>\n",
       "</table>\n",
       "<p>8341 rows × 1 columns</p>\n",
       "</div>"
      ],
      "text/plain": [
       "      student_id\n",
       "0         581585\n",
       "1        5723133\n",
       "2        3276743\n",
       "3        4238589\n",
       "4        4475369\n",
       "...          ...\n",
       "8336     1794344\n",
       "8337      296883\n",
       "8338     3598448\n",
       "8339     3610547\n",
       "8340      205705\n",
       "\n",
       "[8341 rows x 1 columns]"
      ]
     },
     "execution_count": 9,
     "metadata": {},
     "output_type": "execute_result"
    }
   ],
   "source": [
    "active_studs"
   ]
  },
  {
   "cell_type": "markdown",
   "id": "b4c4e5c5",
   "metadata": {},
   "source": [
    "Проверим наличие дубликатов"
   ]
  },
  {
   "cell_type": "code",
   "execution_count": 10,
   "id": "ae0f7f79",
   "metadata": {},
   "outputs": [
    {
     "data": {
      "text/plain": [
       "0"
      ]
     },
     "execution_count": 10,
     "metadata": {},
     "output_type": "execute_result"
    }
   ],
   "source": [
    "active_studs.duplicated().sum()"
   ]
  },
  {
   "cell_type": "markdown",
   "id": "3206cdc5",
   "metadata": {},
   "source": [
    "Откроем файл с информацией об оплатах"
   ]
  },
  {
   "cell_type": "code",
   "execution_count": 11,
   "id": "437e7ebf",
   "metadata": {},
   "outputs": [],
   "source": [
    "checks = pd.read_csv('Проект_2_checks.csv', sep=';')"
   ]
  },
  {
   "cell_type": "code",
   "execution_count": 12,
   "id": "ef1b0055",
   "metadata": {},
   "outputs": [
    {
     "data": {
      "text/html": [
       "<div>\n",
       "<style scoped>\n",
       "    .dataframe tbody tr th:only-of-type {\n",
       "        vertical-align: middle;\n",
       "    }\n",
       "\n",
       "    .dataframe tbody tr th {\n",
       "        vertical-align: top;\n",
       "    }\n",
       "\n",
       "    .dataframe thead th {\n",
       "        text-align: right;\n",
       "    }\n",
       "</style>\n",
       "<table border=\"1\" class=\"dataframe\">\n",
       "  <thead>\n",
       "    <tr style=\"text-align: right;\">\n",
       "      <th></th>\n",
       "      <th>student_id</th>\n",
       "      <th>rev</th>\n",
       "    </tr>\n",
       "  </thead>\n",
       "  <tbody>\n",
       "    <tr>\n",
       "      <th>0</th>\n",
       "      <td>1627</td>\n",
       "      <td>990.0</td>\n",
       "    </tr>\n",
       "    <tr>\n",
       "      <th>1</th>\n",
       "      <td>3185</td>\n",
       "      <td>690.0</td>\n",
       "    </tr>\n",
       "    <tr>\n",
       "      <th>2</th>\n",
       "      <td>25973</td>\n",
       "      <td>690.0</td>\n",
       "    </tr>\n",
       "    <tr>\n",
       "      <th>3</th>\n",
       "      <td>26280</td>\n",
       "      <td>690.0</td>\n",
       "    </tr>\n",
       "    <tr>\n",
       "      <th>4</th>\n",
       "      <td>100300</td>\n",
       "      <td>990.0</td>\n",
       "    </tr>\n",
       "    <tr>\n",
       "      <th>...</th>\n",
       "      <td>...</td>\n",
       "      <td>...</td>\n",
       "    </tr>\n",
       "    <tr>\n",
       "      <th>536</th>\n",
       "      <td>5645737</td>\n",
       "      <td>1900.0</td>\n",
       "    </tr>\n",
       "    <tr>\n",
       "      <th>537</th>\n",
       "      <td>5651566</td>\n",
       "      <td>1900.0</td>\n",
       "    </tr>\n",
       "    <tr>\n",
       "      <th>538</th>\n",
       "      <td>5662322</td>\n",
       "      <td>1900.0</td>\n",
       "    </tr>\n",
       "    <tr>\n",
       "      <th>539</th>\n",
       "      <td>5681918</td>\n",
       "      <td>1900.0</td>\n",
       "    </tr>\n",
       "    <tr>\n",
       "      <th>540</th>\n",
       "      <td>5740903</td>\n",
       "      <td>1900.0</td>\n",
       "    </tr>\n",
       "  </tbody>\n",
       "</table>\n",
       "<p>541 rows × 2 columns</p>\n",
       "</div>"
      ],
      "text/plain": [
       "     student_id     rev\n",
       "0          1627   990.0\n",
       "1          3185   690.0\n",
       "2         25973   690.0\n",
       "3         26280   690.0\n",
       "4        100300   990.0\n",
       "..          ...     ...\n",
       "536     5645737  1900.0\n",
       "537     5651566  1900.0\n",
       "538     5662322  1900.0\n",
       "539     5681918  1900.0\n",
       "540     5740903  1900.0\n",
       "\n",
       "[541 rows x 2 columns]"
      ]
     },
     "execution_count": 12,
     "metadata": {},
     "output_type": "execute_result"
    }
   ],
   "source": [
    "checks"
   ]
  },
  {
   "cell_type": "code",
   "execution_count": 13,
   "id": "7e213a0b",
   "metadata": {},
   "outputs": [
    {
     "data": {
      "text/plain": [
       "student_id      int64\n",
       "rev           float64\n",
       "dtype: object"
      ]
     },
     "execution_count": 13,
     "metadata": {},
     "output_type": "execute_result"
    }
   ],
   "source": [
    "checks.dtypes"
   ]
  },
  {
   "cell_type": "markdown",
   "id": "f1cfd53c",
   "metadata": {},
   "source": [
    "Нас интересуют только пользователи, которые заходили на платформу и принадлежат какой-либо из групп, поэтому при объединении таблиц будем использовать inner join."
   ]
  },
  {
   "cell_type": "code",
   "execution_count": 14,
   "id": "ff4c2c77",
   "metadata": {},
   "outputs": [],
   "source": [
    "students = groups.merge(active_studs, left_on='id', right_on='student_id').drop(columns='id')"
   ]
  },
  {
   "cell_type": "code",
   "execution_count": 15,
   "id": "43be18b9",
   "metadata": {},
   "outputs": [
    {
     "data": {
      "text/html": [
       "<div>\n",
       "<style scoped>\n",
       "    .dataframe tbody tr th:only-of-type {\n",
       "        vertical-align: middle;\n",
       "    }\n",
       "\n",
       "    .dataframe tbody tr th {\n",
       "        vertical-align: top;\n",
       "    }\n",
       "\n",
       "    .dataframe thead th {\n",
       "        text-align: right;\n",
       "    }\n",
       "</style>\n",
       "<table border=\"1\" class=\"dataframe\">\n",
       "  <thead>\n",
       "    <tr style=\"text-align: right;\">\n",
       "      <th></th>\n",
       "      <th>grp</th>\n",
       "      <th>student_id</th>\n",
       "    </tr>\n",
       "  </thead>\n",
       "  <tbody>\n",
       "    <tr>\n",
       "      <th>0</th>\n",
       "      <td>A</td>\n",
       "      <td>1627</td>\n",
       "    </tr>\n",
       "    <tr>\n",
       "      <th>1</th>\n",
       "      <td>B</td>\n",
       "      <td>2085</td>\n",
       "    </tr>\n",
       "    <tr>\n",
       "      <th>2</th>\n",
       "      <td>B</td>\n",
       "      <td>2215</td>\n",
       "    </tr>\n",
       "    <tr>\n",
       "      <th>3</th>\n",
       "      <td>A</td>\n",
       "      <td>3391</td>\n",
       "    </tr>\n",
       "    <tr>\n",
       "      <th>4</th>\n",
       "      <td>B</td>\n",
       "      <td>3401</td>\n",
       "    </tr>\n",
       "  </tbody>\n",
       "</table>\n",
       "</div>"
      ],
      "text/plain": [
       "  grp  student_id\n",
       "0   A        1627\n",
       "1   B        2085\n",
       "2   B        2215\n",
       "3   A        3391\n",
       "4   B        3401"
      ]
     },
     "execution_count": 15,
     "metadata": {},
     "output_type": "execute_result"
    }
   ],
   "source": [
    "students.head()"
   ]
  },
  {
   "cell_type": "code",
   "execution_count": 16,
   "id": "65a7d923",
   "metadata": {},
   "outputs": [
    {
     "data": {
      "text/plain": [
       "(8328, 2)"
      ]
     },
     "execution_count": 16,
     "metadata": {},
     "output_type": "execute_result"
    }
   ],
   "source": [
    "students.shape"
   ]
  },
  {
   "cell_type": "markdown",
   "id": "f517174d",
   "metadata": {},
   "source": [
    "Добавим в датафрейм students данные об оплате. Информация о студентах не производивших оплату тоже нужна, поэтому при объединении используем left join."
   ]
  },
  {
   "cell_type": "code",
   "execution_count": 17,
   "id": "9a49f47c",
   "metadata": {},
   "outputs": [],
   "source": [
    "students = students.merge(checks, how='left', on='student_id')"
   ]
  },
  {
   "cell_type": "code",
   "execution_count": 18,
   "id": "b51dab6c",
   "metadata": {},
   "outputs": [
    {
     "data": {
      "text/html": [
       "<div>\n",
       "<style scoped>\n",
       "    .dataframe tbody tr th:only-of-type {\n",
       "        vertical-align: middle;\n",
       "    }\n",
       "\n",
       "    .dataframe tbody tr th {\n",
       "        vertical-align: top;\n",
       "    }\n",
       "\n",
       "    .dataframe thead th {\n",
       "        text-align: right;\n",
       "    }\n",
       "</style>\n",
       "<table border=\"1\" class=\"dataframe\">\n",
       "  <thead>\n",
       "    <tr style=\"text-align: right;\">\n",
       "      <th></th>\n",
       "      <th>grp</th>\n",
       "      <th>student_id</th>\n",
       "      <th>rev</th>\n",
       "    </tr>\n",
       "  </thead>\n",
       "  <tbody>\n",
       "    <tr>\n",
       "      <th>0</th>\n",
       "      <td>A</td>\n",
       "      <td>1627</td>\n",
       "      <td>990.0</td>\n",
       "    </tr>\n",
       "    <tr>\n",
       "      <th>1</th>\n",
       "      <td>B</td>\n",
       "      <td>2085</td>\n",
       "      <td>NaN</td>\n",
       "    </tr>\n",
       "    <tr>\n",
       "      <th>2</th>\n",
       "      <td>B</td>\n",
       "      <td>2215</td>\n",
       "      <td>NaN</td>\n",
       "    </tr>\n",
       "    <tr>\n",
       "      <th>3</th>\n",
       "      <td>A</td>\n",
       "      <td>3391</td>\n",
       "      <td>NaN</td>\n",
       "    </tr>\n",
       "    <tr>\n",
       "      <th>4</th>\n",
       "      <td>B</td>\n",
       "      <td>3401</td>\n",
       "      <td>NaN</td>\n",
       "    </tr>\n",
       "    <tr>\n",
       "      <th>...</th>\n",
       "      <td>...</td>\n",
       "      <td>...</td>\n",
       "      <td>...</td>\n",
       "    </tr>\n",
       "    <tr>\n",
       "      <th>8323</th>\n",
       "      <td>B</td>\n",
       "      <td>5681918</td>\n",
       "      <td>1900.0</td>\n",
       "    </tr>\n",
       "    <tr>\n",
       "      <th>8324</th>\n",
       "      <td>B</td>\n",
       "      <td>5685258</td>\n",
       "      <td>NaN</td>\n",
       "    </tr>\n",
       "    <tr>\n",
       "      <th>8325</th>\n",
       "      <td>B</td>\n",
       "      <td>5688310</td>\n",
       "      <td>NaN</td>\n",
       "    </tr>\n",
       "    <tr>\n",
       "      <th>8326</th>\n",
       "      <td>B</td>\n",
       "      <td>5689627</td>\n",
       "      <td>NaN</td>\n",
       "    </tr>\n",
       "    <tr>\n",
       "      <th>8327</th>\n",
       "      <td>A</td>\n",
       "      <td>5690284</td>\n",
       "      <td>NaN</td>\n",
       "    </tr>\n",
       "  </tbody>\n",
       "</table>\n",
       "<p>8328 rows × 3 columns</p>\n",
       "</div>"
      ],
      "text/plain": [
       "     grp  student_id     rev\n",
       "0      A        1627   990.0\n",
       "1      B        2085     NaN\n",
       "2      B        2215     NaN\n",
       "3      A        3391     NaN\n",
       "4      B        3401     NaN\n",
       "...   ..         ...     ...\n",
       "8323   B     5681918  1900.0\n",
       "8324   B     5685258     NaN\n",
       "8325   B     5688310     NaN\n",
       "8326   B     5689627     NaN\n",
       "8327   A     5690284     NaN\n",
       "\n",
       "[8328 rows x 3 columns]"
      ]
     },
     "execution_count": 18,
     "metadata": {},
     "output_type": "execute_result"
    }
   ],
   "source": [
    "students"
   ]
  },
  {
   "cell_type": "markdown",
   "id": "ae6d5f41",
   "metadata": {},
   "source": [
    "Посмотрим на численное распределение групп"
   ]
  },
  {
   "cell_type": "code",
   "execution_count": 19,
   "id": "e899d2f8",
   "metadata": {},
   "outputs": [
    {
     "data": {
      "text/plain": [
       "B    6793\n",
       "A    1535\n",
       "Name: grp, dtype: int64"
      ]
     },
     "execution_count": 19,
     "metadata": {},
     "output_type": "execute_result"
    }
   ],
   "source": [
    "students.grp.value_counts() "
   ]
  },
  {
   "cell_type": "markdown",
   "id": "56213835",
   "metadata": {},
   "source": [
    "В контрольной группе(А) существенно меньше пользователей, чем в целевой(B)"
   ]
  },
  {
   "cell_type": "markdown",
   "id": "53bb69d6",
   "metadata": {},
   "source": [
    "<b> Выбор метрик <b>"
   ]
  },
  {
   "cell_type": "markdown",
   "id": "31e43cb6",
   "metadata": {},
   "source": [
    "Из представленных данных оценить результаты эксперимента мы можем используя данные об оплатах. В ходе эксперимента меняли механику оплаты, что может влиять на то, смог ли пользователь осуществить оплату (т.е. на конверсию в покупку - CR), и на то, изменилась ли средняя сумма покупки (показатель среднего чека на платящего пользователя - ARPPU)"
   ]
  },
  {
   "cell_type": "markdown",
   "id": "0aa9a41e",
   "metadata": {},
   "source": [
    "<b>СR"
   ]
  },
  {
   "cell_type": "code",
   "execution_count": 20,
   "id": "4393a5d3",
   "metadata": {},
   "outputs": [
    {
     "name": "stdout",
     "output_type": "stream",
     "text": [
      "Конверсия для контрольной группы А:  5.08\n",
      "Конверсия для целевой группы B:  4.61\n"
     ]
    }
   ],
   "source": [
    "# CR = 100*количество продаж/количество клиентов\n",
    "cr_a = round(100 * students.query('grp==\"A\" and rev>0').student_id.count() / students.grp.value_counts()['A'], 2)\n",
    "cr_b = round(100 * students.query('grp==\"B\" and rev>0').student_id.count() / students.grp.value_counts()['B'], 2)\n",
    "print('Конверсия для контрольной группы А: ', cr_a)\n",
    "print('Конверсия для целевой группы B: ', cr_b)"
   ]
  },
  {
   "cell_type": "markdown",
   "id": "ee84afa7",
   "metadata": {},
   "source": [
    "Проверим статистически значимы ли полученные результаты.\n",
    "<br>Для удобства добавим столбец с данными, произвел ли пользователь оплату."
   ]
  },
  {
   "cell_type": "code",
   "execution_count": 21,
   "id": "2f9ffbb3",
   "metadata": {},
   "outputs": [],
   "source": [
    "students['conversion'] = students.rev.apply(lambda x: 1 if x>0 else 0 )"
   ]
  },
  {
   "cell_type": "code",
   "execution_count": 22,
   "id": "071b0673",
   "metadata": {},
   "outputs": [
    {
     "data": {
      "text/html": [
       "<div>\n",
       "<style scoped>\n",
       "    .dataframe tbody tr th:only-of-type {\n",
       "        vertical-align: middle;\n",
       "    }\n",
       "\n",
       "    .dataframe tbody tr th {\n",
       "        vertical-align: top;\n",
       "    }\n",
       "\n",
       "    .dataframe thead th {\n",
       "        text-align: right;\n",
       "    }\n",
       "</style>\n",
       "<table border=\"1\" class=\"dataframe\">\n",
       "  <thead>\n",
       "    <tr style=\"text-align: right;\">\n",
       "      <th>conversion</th>\n",
       "      <th>0</th>\n",
       "      <th>1</th>\n",
       "    </tr>\n",
       "    <tr>\n",
       "      <th>grp</th>\n",
       "      <th></th>\n",
       "      <th></th>\n",
       "    </tr>\n",
       "  </thead>\n",
       "  <tbody>\n",
       "    <tr>\n",
       "      <th>A</th>\n",
       "      <td>1457</td>\n",
       "      <td>78</td>\n",
       "    </tr>\n",
       "    <tr>\n",
       "      <th>B</th>\n",
       "      <td>6480</td>\n",
       "      <td>313</td>\n",
       "    </tr>\n",
       "  </tbody>\n",
       "</table>\n",
       "</div>"
      ],
      "text/plain": [
       "conversion     0    1\n",
       "grp                  \n",
       "A           1457   78\n",
       "B           6480  313"
      ]
     },
     "execution_count": 22,
     "metadata": {},
     "output_type": "execute_result"
    }
   ],
   "source": [
    "pd.crosstab(students.grp, students.conversion)"
   ]
  },
  {
   "cell_type": "markdown",
   "id": "efc5461c",
   "metadata": {},
   "source": [
    "Обе переменные категориальные поэтому используем хи-квадрат\n",
    "<br>H0: взаимосвязи между переменными нет\n",
    "<br>H1: взаимосвязь между переменными есть"
   ]
  },
  {
   "cell_type": "code",
   "execution_count": 23,
   "id": "fc586857",
   "metadata": {},
   "outputs": [
    {
     "data": {
      "text/plain": [
       "0.47"
      ]
     },
     "execution_count": 23,
     "metadata": {},
     "output_type": "execute_result"
    }
   ],
   "source": [
    "stat, p, dof, expected = chi2_contingency(pd.crosstab(students.grp, students.conversion))\n",
    "round(p, 2)"
   ]
  },
  {
   "cell_type": "markdown",
   "id": "901608b4",
   "metadata": {},
   "source": [
    "p-value>0.05, поэтому не можем отклонить нулевую гипотезу, а значит не можем говорить что конверсия статистически значимо изменилась.\n"
   ]
  },
  {
   "cell_type": "markdown",
   "id": "08ca4e02",
   "metadata": {},
   "source": [
    "<b>ARPPU\n"
   ]
  },
  {
   "cell_type": "code",
   "execution_count": 24,
   "id": "23f51196",
   "metadata": {},
   "outputs": [
    {
     "data": {
      "text/plain": [
       "933.59"
      ]
     },
     "execution_count": 24,
     "metadata": {},
     "output_type": "execute_result"
    }
   ],
   "source": [
    "# ARPPU для группы А\n",
    "arppu_a = round(students.query('grp==\"A\"').rev.mean(), 2)\n",
    "arppu_a"
   ]
  },
  {
   "cell_type": "code",
   "execution_count": 25,
   "id": "0b582c38",
   "metadata": {},
   "outputs": [
    {
     "data": {
      "text/plain": [
       "1255.83"
      ]
     },
     "execution_count": 25,
     "metadata": {},
     "output_type": "execute_result"
    }
   ],
   "source": [
    "# ARPPU для группы B\n",
    "arppu_b = round(students.query('grp==\"B\"').rev.mean(), 2)\n",
    "arppu_b"
   ]
  },
  {
   "cell_type": "markdown",
   "id": "fe0692a1",
   "metadata": {},
   "source": [
    "Теперь оценим изменение ARPPU. Для начала проверим являются ли распределения в группах нормальными"
   ]
  },
  {
   "cell_type": "code",
   "execution_count": 26,
   "id": "7c42c672",
   "metadata": {},
   "outputs": [],
   "source": [
    "a = students.query('grp==\"A\" and rev>0').rev\n",
    "b = students.query('grp==\"B\" and rev>0').rev"
   ]
  },
  {
   "cell_type": "code",
   "execution_count": 27,
   "id": "5f1d20e4",
   "metadata": {
    "scrolled": true
   },
   "outputs": [
    {
     "data": {
      "text/plain": [
       "<AxesSubplot:ylabel='Frequency'>"
      ]
     },
     "execution_count": 27,
     "metadata": {},
     "output_type": "execute_result"
    },
    {
     "data": {
      "image/png": "[encoded data removed]",
      "text/plain": [
       "<Figure size 432x288 with 1 Axes>"
      ]
     },
     "metadata": {
      "needs_background": "light"
     },
     "output_type": "display_data"
    }
   ],
   "source": [
    "a.plot(kind='hist', density=1, bins=20)"
   ]
  },
  {
   "cell_type": "code",
   "execution_count": 28,
   "id": "c44b255b",
   "metadata": {},
   "outputs": [
    {
     "data": {
      "text/plain": [
       "<AxesSubplot:ylabel='Frequency'>"
      ]
     },
     "execution_count": 28,
     "metadata": {},
     "output_type": "execute_result"
    },
    {
     "data": {
      "image/png": "[encoded data removed]",
      "text/plain": [
       "<Figure size 432x288 with 1 Axes>"
      ]
     },
     "metadata": {
      "needs_background": "light"
     },
     "output_type": "display_data"
    }
   ],
   "source": [
    "b.plot(kind='hist', density=1, bins=20)"
   ]
  },
  {
   "cell_type": "markdown",
   "id": "a588e680",
   "metadata": {},
   "source": [
    "Судя по графикам, распределения не являются нормальными. Удостоверимся, применив тест Шапиро-Уилка."
   ]
  },
  {
   "cell_type": "code",
   "execution_count": 29,
   "id": "90247ff5",
   "metadata": {},
   "outputs": [
    {
     "data": {
      "text/plain": [
       "ShapiroResult(statistic=0.7353236079216003, pvalue=1.4986822893803264e-10)"
      ]
     },
     "execution_count": 29,
     "metadata": {},
     "output_type": "execute_result"
    }
   ],
   "source": [
    "shapiro(a)"
   ]
  },
  {
   "cell_type": "code",
   "execution_count": 30,
   "id": "283985bf",
   "metadata": {},
   "outputs": [
    {
     "data": {
      "text/plain": [
       "ShapiroResult(statistic=0.8551987409591675, pvalue=1.756778758085431e-16)"
      ]
     },
     "execution_count": 30,
     "metadata": {},
     "output_type": "execute_result"
    }
   ],
   "source": [
    "shapiro(b)"
   ]
  },
  {
   "cell_type": "markdown",
   "id": "09a7ed37",
   "metadata": {},
   "source": [
    "Распределения не являются нормальными, т.к. p-value<0.05"
   ]
  },
  {
   "cell_type": "markdown",
   "id": "300a3e30",
   "metadata": {},
   "source": [
    "Параметрические условия не удовлетворяются и сравниваем 2 группы, поэтому будем использовать U-критерий Манна-Уитни"
   ]
  },
  {
   "cell_type": "code",
   "execution_count": 31,
   "id": "7cd171de",
   "metadata": {},
   "outputs": [
    {
     "data": {
      "text/plain": [
       "0.0001366223502529715"
      ]
     },
     "execution_count": 31,
     "metadata": {},
     "output_type": "execute_result"
    }
   ],
   "source": [
    "st, p = mannwhitneyu(a, b)\n",
    "p"
   ]
  },
  {
   "cell_type": "markdown",
   "id": "d1855a43",
   "metadata": {},
   "source": [
    "Значение p-value<0.05, значит различия статистически значимы"
   ]
  },
  {
   "cell_type": "markdown",
   "id": "b6ba6dd8",
   "metadata": {},
   "source": [
    "### Выводы:\n",
    "Изменения не повлияли на показатели конверсии, а ARPPU увеличилось, поэтому эксперимент можно считать успешным и новую механику стоит запустить на всех пользователей."
   ]
  },
  {
   "cell_type": "markdown",
   "id": "5e88c45d",
   "metadata": {},
   "source": [
    "## SQL"
   ]
  },
  {
   "cell_type": "markdown",
   "id": "93b5752e",
   "metadata": {},
   "source": [
    "### Очень усердные ученики"
   ]
  },
  {
   "cell_type": "markdown",
   "id": "246b1215",
   "metadata": {},
   "source": [
    "Образовательные курсы состоят из различных уроков, каждый из которых состоит из нескольких маленьких заданий. Каждое такое маленькое задание называется \"горошиной\".\n",
    "<br>Необходимо написать оптимальный запрос, который даст информацию о количестве очень усердных студентов.\n",
    "<br>Назовём очень усердным учеником того пользователя, который хотя бы раз за текущий месяц правильно решил 20 горошин."
   ]
  },
  {
   "cell_type": "code",
   "execution_count": 32,
   "id": "e1244e8d",
   "metadata": {},
   "outputs": [],
   "source": [
    "import pandahouse as ph"
   ]
  },
  {
   "cell_type": "code",
   "execution_count": 33,
   "id": "3fce586c",
   "metadata": {},
   "outputs": [],
   "source": [
    "connection_default = dict(\n",
    "    database='default',\n",
    "    host='https://clickhouse.lab.karpov.courses',\n",
    "    user='student',\n",
    "    password='dpo_python_2020')"
   ]
  },
  {
   "cell_type": "markdown",
   "id": "8a04fa6c",
   "metadata": {},
   "source": [
    "Информации за текущий месяц в базе нет, но т.к. данные в базу могут периодически подгружаться и нужна актуальная информация, то сравнивать считаю нужным именно с текущей датой."
   ]
  },
  {
   "cell_type": "code",
   "execution_count": 34,
   "id": "06a029f1",
   "metadata": {},
   "outputs": [
    {
     "data": {
      "text/html": [
       "<div>\n",
       "<style scoped>\n",
       "    .dataframe tbody tr th:only-of-type {\n",
       "        vertical-align: middle;\n",
       "    }\n",
       "\n",
       "    .dataframe tbody tr th {\n",
       "        vertical-align: top;\n",
       "    }\n",
       "\n",
       "    .dataframe thead th {\n",
       "        text-align: right;\n",
       "    }\n",
       "</style>\n",
       "<table border=\"1\" class=\"dataframe\">\n",
       "  <thead>\n",
       "    <tr style=\"text-align: right;\">\n",
       "      <th></th>\n",
       "      <th>num_st</th>\n",
       "    </tr>\n",
       "  </thead>\n",
       "  <tbody>\n",
       "    <tr>\n",
       "      <th>0</th>\n",
       "      <td>0</td>\n",
       "    </tr>\n",
       "  </tbody>\n",
       "</table>\n",
       "</div>"
      ],
      "text/plain": [
       "   num_st\n",
       "0       0"
      ]
     },
     "execution_count": 34,
     "metadata": {},
     "output_type": "execute_result"
    }
   ],
   "source": [
    "query = '''\n",
    "    SELECT COUNT(st_id) AS num_st\n",
    "    FROM (\n",
    "        SELECT st_id\n",
    "        FROM default.peas\n",
    "        WHERE toStartOfMonth(timest) = date_trunc('month', now()) --сравниваем с текущим месяцем\n",
    "        GROUP BY st_id\n",
    "        HAVING SUM(correct)>=20)\n",
    "'''\n",
    "df = ph.read_clickhouse(query, connection=connection_default)\n",
    "df"
   ]
  },
  {
   "cell_type": "markdown",
   "id": "82ec8f1b",
   "metadata": {},
   "source": [
    "### Оптимизация воронки"
   ]
  },
  {
   "cell_type": "markdown",
   "id": "51682c88",
   "metadata": {},
   "source": [
    "Образовательная платформа предлагает пройти студентам курсы по модели trial: студент может решить бесплатно лишь 30 горошин в день. Для неограниченного количества заданий в определенной дисциплине студенту необходимо приобрести полный доступ. Команда провела эксперимент, где был протестирован новый экран оплаты.\n",
    "<br>Необходимо в одном запросе выгрузить следующую информацию о группах пользователей:\n",
    "\n",
    "* ARPU \n",
    "* ARPAU \n",
    "* CR в покупку \n",
    "* СR активного пользователя в покупку \n",
    "* CR пользователя из активности по математике (subject = ’math’) в покупку курса по математике\n",
    "* ARPU считается относительно всех пользователей, попавших в группы.\n",
    "\n",
    "Активным считается пользователь, за все время решивший больше 10 задач правильно в любых дисциплинах.\n",
    "\n",
    "Активным по математике считается пользователь, за все время решивший 2 или больше задач правильно по математике."
   ]
  },
  {
   "cell_type": "code",
   "execution_count": 40,
   "id": "e363d858",
   "metadata": {},
   "outputs": [
    {
     "data": {
      "text/html": [
       "<div>\n",
       "<style scoped>\n",
       "    .dataframe tbody tr th:only-of-type {\n",
       "        vertical-align: middle;\n",
       "    }\n",
       "\n",
       "    .dataframe tbody tr th {\n",
       "        vertical-align: top;\n",
       "    }\n",
       "\n",
       "    .dataframe thead th {\n",
       "        text-align: right;\n",
       "    }\n",
       "</style>\n",
       "<table border=\"1\" class=\"dataframe\">\n",
       "  <thead>\n",
       "    <tr style=\"text-align: right;\">\n",
       "      <th></th>\n",
       "      <th>test_grp</th>\n",
       "      <th>ARPU</th>\n",
       "      <th>ARPAU</th>\n",
       "      <th>CR</th>\n",
       "      <th>CR_active</th>\n",
       "      <th>CR_math</th>\n",
       "    </tr>\n",
       "  </thead>\n",
       "  <tbody>\n",
       "    <tr>\n",
       "      <th>0</th>\n",
       "      <td>control</td>\n",
       "      <td>4540.98</td>\n",
       "      <td>10393.70</td>\n",
       "      <td>4.92</td>\n",
       "      <td>11.02</td>\n",
       "      <td>6.12</td>\n",
       "    </tr>\n",
       "    <tr>\n",
       "      <th>1</th>\n",
       "      <td>pilot</td>\n",
       "      <td>11508.47</td>\n",
       "      <td>29739.58</td>\n",
       "      <td>10.85</td>\n",
       "      <td>26.04</td>\n",
       "      <td>9.52</td>\n",
       "    </tr>\n",
       "  </tbody>\n",
       "</table>\n",
       "</div>"
      ],
      "text/plain": [
       "  test_grp      ARPU     ARPAU     CR  CR_active  CR_math\n",
       "0  control   4540.98  10393.70   4.92      11.02     6.12\n",
       "1    pilot  11508.47  29739.58  10.85      26.04     9.52"
      ]
     },
     "execution_count": 40,
     "metadata": {},
     "output_type": "execute_result"
    }
   ],
   "source": [
    "query = '''\n",
    "WITH cte AS (\n",
    "--Подготовим общую таблицу с данными\n",
    "    SELECT \n",
    "        s.st_id AS id, --id всех студентов, участвующих в эксперименте\n",
    "        s.test_grp AS test_grp, -- группа эксперимента\n",
    "        st_act.active_st AS active_st, -- метка активности студента\n",
    "        st_math.math_active AS math_active -- метка активности студента по математике\n",
    "        ,c.money AS money --сумма оплаты\n",
    "        ,st_math.money_math AS money_math -- сумма денег по математике\n",
    "    FROM default.studs s \n",
    "    LEFT JOIN( \n",
    "        -- Деление студентов на активных(1) и неактивных(0)\n",
    "        SELECT \n",
    "            st_id,\n",
    "            if(sum(correct)>10, 1, 0) AS active_st\n",
    "        FROM default.peas \n",
    "        GROUP BY st_id \n",
    "    ) AS st_act\n",
    "    ON s.st_id=st_act.st_id\n",
    "    LEFT JOIN(\n",
    "        SELECT\n",
    "            st_id,\n",
    "            math_active,\n",
    "            money_math\n",
    "        FROM(\n",
    "            --Деление студентов на активных по математике(1) и неактивных по математике(0)\n",
    "            SELECT \n",
    "                st_id,\n",
    "                if(sum(correct)>=2, 1, 0) AS math_active\n",
    "            FROM default.peas\n",
    "            WHERE subject='Math'\n",
    "            GROUP BY st_id ) as ma\n",
    "        LEFT JOIN (\n",
    "            --Выбираем оплаченные суммы по математике\n",
    "            SELECT st_id, sum(money) as money_math\n",
    "            FROM default.final_project_check\n",
    "            WHERE subject='Math'\n",
    "            GROUP BY st_id) as mm\n",
    "        ON ma.st_id=mm.st_id\n",
    "    ) AS st_math\n",
    "    ON st_math.st_id=s.st_id\n",
    "    LEFT JOIN \n",
    "        (SELECT st_id, sum(money) as money\n",
    "        FROM default.final_project_check\n",
    "        GROUP BY st_id) AS c \n",
    "        ON s.st_id=c.st_id\n",
    ")\n",
    "SELECT \n",
    "    test_grp,\n",
    "    ROUND(sum(money)/COUNT(DISTINCT id), 2) AS ARPU,\n",
    "    ROUND(sumIf(cte.money, active_st=1 )/countIf(distinct cte.id, cte.active_st=1), 2)AS ARPAU,\n",
    "    ROUND(100*countIf(cte.money,cte.money>0)/COUNT(DISTINCT id), 2) AS CR,\n",
    "    ROUND(100*countIf(cte.money,cte.money>0 and active_st=1)/countIf(distinct cte.id, cte.active_st=1),2) AS CR_active,\n",
    "    ROUND(100*countIf(cte.money_math,cte.money_math>0 and math_active=1)/countIf(distinct cte.id, cte.math_active=1), 2) AS CR_math\n",
    "    FROM cte\n",
    "GROUP BY test_grp\n",
    "'''\n",
    "df = ph.read_clickhouse(query, connection=connection_default)\n",
    "df"
   ]
  },
  {
   "cell_type": "markdown",
   "id": "f360670b",
   "metadata": {},
   "source": [
    "## Python"
   ]
  },
  {
   "cell_type": "markdown",
   "id": "07dffe15",
   "metadata": {},
   "source": [
    "Реализовать функцию, которая будет автоматически подгружать информацию из дополнительного файла groups_add.csv (заголовки могут отличаться) и на основании дополнительных параметров пересчитывать метрики"
   ]
  },
  {
   "cell_type": "code",
   "execution_count": 36,
   "id": "28de5093",
   "metadata": {},
   "outputs": [],
   "source": [
    "def add_data(file):\n",
    "    \n",
    "    # Импорт необходимых библиотек\n",
    "    import pandas as pd\n",
    "    from scipy.stats import chi2_contingency \n",
    "    \n",
    "    # Чтение данных\n",
    "    group_add = pd.read_csv(file)\n",
    "    groups = pd.read_csv('Проект_2_groups.csv', sep=';')\n",
    "    active_studs = pd.read_csv('Проект_2_active_studs.csv')\n",
    "    checks = pd.read_csv('Проект_2_checks.csv', sep=';')\n",
    "    \n",
    "    # Добавим новые данные в файл с группами\n",
    "    groups = pd.concat([groups, group_add])\n",
    "    \n",
    "    # Объединяем данные \n",
    "    students = groups.merge(active_studs, left_on='id', right_on='student_id').drop(columns='id')\n",
    "    students = students.merge(checks, how='left', on='student_id')\n",
    "    \n",
    "    # Расчет CR\n",
    "    cr_a = round(100 * students.query('grp==\"A\" and rev>0').student_id.count() / students.grp.value_counts()['A'], 2)\n",
    "    cr_b = round(100 * students.query('grp==\"B\" and rev>0').student_id.count() / students.grp.value_counts()['B'], 2)\n",
    "    \n",
    "    # Проверим значимы ли различия\n",
    "    students['conversion'] = students.rev.apply(lambda x: 1 if x > 0 else 0)\n",
    "    stat, p, dof, expected = chi2_contingency(pd.crosstab(students.grp, students.conversion))\n",
    "    prob = 0.95\n",
    "    alpha = 1.0 - prob\n",
    "    if p <= alpha:\n",
    "        cr_result = 'Изменения CR значимы'\n",
    "    else:\n",
    "        cr_result = 'Изменения CR НЕ значимы'\n",
    "    \n",
    "    # Расчет ARPPU\n",
    "    arppu_a = round(students.query('grp==\"A\"').rev.mean(), 2)\n",
    "    arppu_b = round(students.query('grp==\"B\"').rev.mean(), 2)\n",
    "    \n",
    "    # Проверим значимы ли различия\n",
    "    a = students.query('grp==\"A\" and rev>0').rev\n",
    "    b = students.query('grp==\"B\" and rev>0').rev\n",
    "    st, p = mannwhitneyu(a, b)\n",
    "    if p <= alpha:\n",
    "        arppu_result = 'Изменения ARPPU значимы'\n",
    "    else:\n",
    "        arppu_result = 'Изменения ARPPU НЕ значимы'\n",
    "    df = pd.DataFrame({'group': ['А', 'B'], 'CR': [cr_a, cr_b], 'ARPPU': [arppu_a, arppu_b]})\n",
    "    result = (cr_result, arppu_result)\n",
    "\n",
    "    return df, result"
   ]
  },
  {
   "cell_type": "code",
   "execution_count": 37,
   "id": "b64f93cd",
   "metadata": {},
   "outputs": [
    {
     "data": {
      "text/html": [
       "<div>\n",
       "<style scoped>\n",
       "    .dataframe tbody tr th:only-of-type {\n",
       "        vertical-align: middle;\n",
       "    }\n",
       "\n",
       "    .dataframe tbody tr th {\n",
       "        vertical-align: top;\n",
       "    }\n",
       "\n",
       "    .dataframe thead th {\n",
       "        text-align: right;\n",
       "    }\n",
       "</style>\n",
       "<table border=\"1\" class=\"dataframe\">\n",
       "  <thead>\n",
       "    <tr style=\"text-align: right;\">\n",
       "      <th></th>\n",
       "      <th>group</th>\n",
       "      <th>CR</th>\n",
       "      <th>ARPPU</th>\n",
       "    </tr>\n",
       "  </thead>\n",
       "  <tbody>\n",
       "    <tr>\n",
       "      <th>0</th>\n",
       "      <td>А</td>\n",
       "      <td>5.07</td>\n",
       "      <td>933.59</td>\n",
       "    </tr>\n",
       "    <tr>\n",
       "      <th>1</th>\n",
       "      <td>B</td>\n",
       "      <td>4.62</td>\n",
       "      <td>1257.88</td>\n",
       "    </tr>\n",
       "  </tbody>\n",
       "</table>\n",
       "</div>"
      ],
      "text/plain": [
       "  group    CR    ARPPU\n",
       "0     А  5.07   933.59\n",
       "1     B  4.62  1257.88"
      ]
     },
     "metadata": {},
     "output_type": "display_data"
    },
    {
     "name": "stdout",
     "output_type": "stream",
     "text": [
      "('Изменения CR НЕ значимы', 'Изменения ARPPU значимы')\n"
     ]
    }
   ],
   "source": [
    "res_table, r = add_data('Проект_2_group_add.csv')\n",
    "display(res_table)\n",
    "print(r)"
   ]
  },
  {
   "cell_type": "markdown",
   "id": "3d187a3c",
   "metadata": {},
   "source": [
    "Реализовать функцию, которая будет строить графики по получаемым метрикам.\n"
   ]
  },
  {
   "cell_type": "code",
   "execution_count": 38,
   "id": "74b6c191",
   "metadata": {},
   "outputs": [],
   "source": [
    "def graph(data):\n",
    "    # импорт библиотек\n",
    "    import matplotlib.pyplot as plt\n",
    "    \n",
    "\n",
    "    # Задаем сетку для 2-х графиков\n",
    "    fig, (ax1, ax2) = plt.subplots(nrows=1, ncols=2, figsize=(15, 5))\n",
    "\n",
    "    # График конверсии\n",
    "    ax1.set(title='Конверсия в группах')\n",
    "    ax1.bar(data.group, data.CR, color=('darkblue', 'darkorange'))\n",
    "    # График ARPPU\n",
    "    ax2.set(title='ARPPU в группах')\n",
    "    ax2.bar(data.group, data.ARPPU, color=('darkblue', 'darkorange'))"
   ]
  },
  {
   "cell_type": "code",
   "execution_count": 39,
   "id": "7f1f0a20",
   "metadata": {},
   "outputs": [
    {
     "data": {
      "image/png": "[encoded data removed]",
      "text/plain": [
       "<Figure size 1080x360 with 2 Axes>"
      ]
     },
     "metadata": {
      "needs_background": "light"
     },
     "output_type": "display_data"
    }
   ],
   "source": [
    "# Вызов функции рисования графиков\n",
    "graph(res_table)"
   ]
  },
  {
   "cell_type": "code",
   "execution_count": null,
   "id": "ef0905c9",
   "metadata": {},
   "outputs": [],
   "source": []
  }
 ],
 "metadata": {
  "kernelspec": {
   "display_name": "Python 3",
   "language": "python",
   "name": "python3"
  },
  "language_info": {
   "codemirror_mode": {
    "name": "ipython",
    "version": 3
   },
   "file_extension": ".py",
   "mimetype": "text/x-python",
   "name": "python",
   "nbconvert_exporter": "python",
   "pygments_lexer": "ipython3",
   "version": "3.8.8"
  }
 },
 "nbformat": 4,
 "nbformat_minor": 5
}
